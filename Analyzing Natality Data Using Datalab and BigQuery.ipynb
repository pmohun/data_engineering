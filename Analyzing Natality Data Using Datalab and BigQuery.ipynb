{
 "cells": [
  {
   "cell_type": "markdown",
   "metadata": {},
   "source": [
    "## Natality Data using BigQuery and Datalab\n",
    "\n",
    "#### Objectives:\n",
    "- Launch Cloud Datalab\n",
    "- Invoke a BigQuery query\n",
    "- Create charts in Datalab\n",
    "- Export data for machine learning\n",
    "\n",
    "#### This lab illustrates how you can carry out data exploration of large datasets, but continue to use familiar tools like Pandas and Juypter. The trick is to do the first part of your aggregation in BigQuery, get back a Pandas DataFrame, then work with the smaller Pandas DataFrame locally. Datalab provides a managed Jupyter experience, so you don't need to run notebook servers yourself."
   ]
  },
  {
   "cell_type": "code",
   "execution_count": null,
   "metadata": {},
   "outputs": [],
   "source": [
    "# BigQuery\n",
    "\n",
    "SELECT\n",
    "  plurality,\n",
    "  COUNT(1) AS num_babies,\n",
    "  AVG(weight_pounds) AS ave_weight\n",
    "FROM\n",
    "  `bigquery-public-data.samples.natality`\n",
    "WHERE\n",
    "  year > 2000 AND year < 2005\n",
    "GROUP BY\n",
    "  plurality"
   ]
  },
  {
   "cell_type": "code",
   "execution_count": 1,
   "metadata": {},
   "outputs": [],
   "source": [
    "# Datalab\n",
    "\n",
    "!pip install --upgrade google-cloud-bigquery\n",
    "\n",
    "from google.cloud import bigquery\n",
    "\n",
    "client = bigquery.Client()\n",
    "\n",
    "sql = \"\"\"\n",
    "  SELECT\n",
    "    plurality,\n",
    "    COUNT(1) AS count,\n",
    "    year\n",
    "  FROM\n",
    "    `bigquery-public-data.samples.natality`\n",
    "  WHERE\n",
    "    NOT IS_NAN(plurality) AND plurality > 1\n",
    "  GROUP BY\n",
    "    plurality, year\n",
    "  ORDER BY\n",
    "    count DESC\n",
    "\"\"\"\n",
    "df = client.query(sql).to_dataframe()\n",
    "df.head()"
   ]
  },
  {
   "cell_type": "code",
   "execution_count": null,
   "metadata": {},
   "outputs": [],
   "source": [
    "pivot_table = df.pivot(index='year', columns='plurality', values='count')\n",
    "pivot_table.plot(kind='bar', stacked=True, figsize=(15,7));"
   ]
  },
  {
   "cell_type": "code",
   "execution_count": null,
   "metadata": {},
   "outputs": [],
   "source": [
    "# baby weight by gender\n",
    "\n",
    "sql = \"\"\"\n",
    "  SELECT\n",
    "    is_male,\n",
    "    AVG(weight_pounds) AS ave_weight\n",
    "  FROM\n",
    "    `bigquery-public-data.samples.natality`\n",
    "  GROUP BY\n",
    "    is_male\n",
    "\"\"\"\n",
    "df = client.query(sql).to_dataframe()\n",
    "df.plot(x='is_male', y='ave_weight', kind='bar');"
   ]
  },
  {
   "cell_type": "code",
   "execution_count": null,
   "metadata": {},
   "outputs": [],
   "source": [
    "# baby weight during gestation \n",
    "\n",
    "sql = \"\"\"\n",
    "  SELECT\n",
    "    is_male,\n",
    "    AVG(weight_pounds) AS ave_weight\n",
    "  FROM\n",
    "    `bigquery-public-data.samples.natality`\n",
    "  GROUP BY\n",
    "    is_male\n",
    "\"\"\"\n",
    "df = client.query(sql).to_dataframe()\n",
    "df.plot(x='is_male', y='ave_weight', kind='bar');"
   ]
  }
 ],
 "metadata": {
  "kernelspec": {
   "display_name": "Python 3",
   "language": "python",
   "name": "python3"
  },
  "language_info": {
   "codemirror_mode": {
    "name": "ipython",
    "version": 3
   },
   "file_extension": ".py",
   "mimetype": "text/x-python",
   "name": "python",
   "nbconvert_exporter": "python",
   "pygments_lexer": "ipython3",
   "version": "3.6.4"
  }
 },
 "nbformat": 4,
 "nbformat_minor": 2
}
